{
 "cells": [
  {
   "cell_type": "code",
   "execution_count": 1,
   "id": "fc18e2fc",
   "metadata": {},
   "outputs": [],
   "source": [
    "import pandas as pd\n",
    "import numpy as np\n",
    "from sklearn.preprocessing import MinMaxScaler\n",
    "import ta "
   ]
  },
  {
   "cell_type": "markdown",
   "id": "b8c0149e",
   "metadata": {},
   "source": [
    "# LSTM Data Preprocessing\n",
    "\n",
    "## Purpose\n",
    "Transform our engineered features from notebook 02 into the proper format for LSTM training:\n",
    "- Scale data to 0-1 range for neural networks\n",
    "- Create sequences (60 days → predict day 61)\n",
    "- Split data chronologically for time series\n",
    "- Save processed data for model training"
   ]
  },
  {
   "cell_type": "code",
   "execution_count": 2,
   "id": "5a621775",
   "metadata": {},
   "outputs": [
    {
     "name": "stdout",
     "output_type": "stream",
     "text": [
      "Data loaded: (1760, 5)\n"
     ]
    },
    {
     "name": "stderr",
     "output_type": "stream",
     "text": [
      "C:\\Users\\bhatt\\AppData\\Local\\Temp\\ipykernel_18788\\2354370580.py:3: UserWarning: Could not infer format, so each element will be parsed individually, falling back to `dateutil`. To ensure parsing is consistent and as-expected, please specify a format.\n",
      "  df = pd.read_csv(f'../data/{TICKER.lower()}.csv', index_col=0, parse_dates=True)\n"
     ]
    }
   ],
   "source": [
    "# Load and clean data \n",
    "TICKER = input(\"Enter stock ticker (e.g. AAPL, TSLA, MSFT): \").upper()\n",
    "df = pd.read_csv(f'../data/{TICKER.lower()}.csv', index_col=0, parse_dates=True)\n",
    "\n",
    "# Convert to numeric and clean data\n",
    "numeric_columns = ['Open', 'High', 'Low', 'Close', 'Volume']\n",
    "for col in numeric_columns:\n",
    "    if col in df.columns:\n",
    "        df[col] = pd.to_numeric(df[col], errors='coerce')\n",
    "\n",
    "df = df.dropna()\n",
    "print(f\"Data loaded: {df.shape}\")"
   ]
  },
  {
   "cell_type": "code",
   "execution_count": 3,
   "id": "ab3fbb42",
   "metadata": {},
   "outputs": [],
   "source": [
    "# Create technical indicators \n",
    "df['SMA_20'] = ta.trend.SMAIndicator(df['Close'], window=20).sma_indicator()\n",
    "df['RSI'] = ta.momentum.RSIIndicator(df['Close'], window=14).rsi()\n",
    "df['MACD'] = ta.trend.MACD(df['Close']).macd()"
   ]
  },
  {
   "cell_type": "code",
   "execution_count": 4,
   "id": "166e07c2",
   "metadata": {},
   "outputs": [],
   "source": [
    "# Create lag features\n",
    "df['Close_lag1'] = df['Close'].shift(1)\n",
    "df['Close_lag2'] = df['Close'].shift(2)\n",
    "df['Close_lag3'] = df['Close'].shift(3)"
   ]
  },
  {
   "cell_type": "code",
   "execution_count": 5,
   "id": "5e341e1e",
   "metadata": {},
   "outputs": [
    {
     "name": "stdout",
     "output_type": "stream",
     "text": [
      "Final dataset shape: (1735, 7)\n"
     ]
    }
   ],
   "source": [
    "# Select features for LSTM \n",
    "features = ['Close', 'SMA_20', 'RSI', 'MACD', 'Close_lag1', 'Close_lag2', 'Close_lag3']\n",
    "\n",
    "# Select features and remove incomplete data\n",
    "df = df[features].dropna()\n",
    "print(f\"Final dataset shape: {df.shape}\")"
   ]
  },
  {
   "cell_type": "code",
   "execution_count": 6,
   "id": "8ac14d65",
   "metadata": {},
   "outputs": [],
   "source": [
    "# Scale data for neural networks (0-1 range)\n",
    "scaler = MinMaxScaler()\n",
    "scaled_data = scaler.fit_transform(df)\n",
    "scaled_df = pd.DataFrame(scaled_data, columns=features, index=df.index)"
   ]
  },
  {
   "cell_type": "code",
   "execution_count": 7,
   "id": "37230f83",
   "metadata": {},
   "outputs": [
    {
     "name": "stdout",
     "output_type": "stream",
     "text": [
      "Train: 1388 rows, Test: 347 rows\n"
     ]
    }
   ],
   "source": [
    "# Chronological train/test split\n",
    "split_ratio = 0.8\n",
    "split_index = int(len(scaled_df) * split_ratio)\n",
    "\n",
    "train_df = scaled_df[:split_index]\n",
    "test_df = scaled_df[split_index:]\n",
    "\n",
    "print(f\"Train: {len(train_df)} rows, Test: {len(test_df)} rows\")"
   ]
  },
  {
   "cell_type": "code",
   "execution_count": 8,
   "id": "7c5c7db4",
   "metadata": {},
   "outputs": [],
   "source": [
    "def create_sequences(data, lookback=60):\n",
    "    \"\"\"Create sequences for LSTM training\"\"\"\n",
    "    X, y = [], [] # X is input of 60 days and y is the next day's closing price (y)\n",
    "\n",
    "# For each day after day 60:\n",
    "# X[0] = Days 1-60 → y[0] = Day 61 price\n",
    "# X[1] = Days 2-61 → y[1] = Day 62 price  \n",
    "# X[2] = Days 3-62 → y[2] = Day 63 price\n",
    "    \n",
    "    for i in range(lookback, len(data)):\n",
    "        X.append(data.iloc[i - lookback:i].values)\n",
    "        y.append(data.iloc[i]['Close'])\n",
    "    \n",
    "    return np.array(X), np.array(y)\n",
    "\n",
    "# Create sequences\n",
    "lookback = 60\n",
    "X_train, y_train = create_sequences(train_df, lookback)\n",
    "X_test, y_test = create_sequences(test_df, lookback)"
   ]
  },
  {
   "cell_type": "code",
   "execution_count": 9,
   "id": "79e453e8",
   "metadata": {},
   "outputs": [
    {
     "name": "stdout",
     "output_type": "stream",
     "text": [
      "X_train shape: (1328, 60, 7)\n",
      "y_train shape: (1328,)\n",
      "X_test shape: (287, 60, 7)\n",
      "y_test shape: (287,)\n"
     ]
    }
   ],
   "source": [
    "# Verify data shapes\n",
    "print(f\"X_train shape: {X_train.shape}\")\n",
    "print(f\"y_train shape: {y_train.shape}\")\n",
    "print(f\"X_test shape: {X_test.shape}\")\n",
    "print(f\"y_test shape: {y_test.shape}\")"
   ]
  },
  {
   "cell_type": "code",
   "execution_count": 10,
   "id": "aeb8e04f",
   "metadata": {},
   "outputs": [
    {
     "name": "stdout",
     "output_type": "stream",
     "text": [
      "Data saved successfully!\n"
     ]
    }
   ],
   "source": [
    "# Save preprocessed data for LSTM training\n",
    "import os\n",
    "import joblib\n",
    "\n",
    "# Create data directory if needed\n",
    "os.makedirs('../data', exist_ok=True)\n",
    "\n",
    "# Save all datasets\n",
    "np.save(f'../data/X_train_{TICKER.lower()}.npy', X_train)\n",
    "np.save(f'../data/y_train_{TICKER.lower()}.npy', y_train)\n",
    "np.save(f'../data/X_test_{TICKER.lower()}.npy', X_test)\n",
    "np.save(f'../data/y_test_{TICKER.lower()}.npy', y_test)\n",
    "\n",
    "# Save scaler for inverse transformation later\n",
    "joblib.dump(scaler, f'../data/scaler_{TICKER.lower()}.pk1')\n",
    "\n",
    "print(\"Data saved successfully!\")"
   ]
  }
 ],
 "metadata": {
  "kernelspec": {
   "display_name": ".venv",
   "language": "python",
   "name": "python3"
  },
  "language_info": {
   "codemirror_mode": {
    "name": "ipython",
    "version": 3
   },
   "file_extension": ".py",
   "mimetype": "text/x-python",
   "name": "python",
   "nbconvert_exporter": "python",
   "pygments_lexer": "ipython3",
   "version": "3.11.9"
  }
 },
 "nbformat": 4,
 "nbformat_minor": 5
}
